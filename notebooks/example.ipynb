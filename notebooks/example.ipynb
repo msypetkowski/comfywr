{
 "cells": [
  {
   "cell_type": "code",
   "execution_count": null,
   "id": "fa8351a3-8c69-42fa-849d-fd94fdd6a215",
   "metadata": {
    "scrolled": true
   },
   "outputs": [],
   "source": [
    "%load_ext autoreload\n",
    "%cd /workdir/ComfyUI/\n",
    "%autoreload 2\n",
    "from pathlib import Path\n",
    "import numpy as np\n",
    "import torch\n",
    "import matplotlib.pyplot as plt\n",
    "from comfywr.csd_lib import load_checkpoints, load_image, image_scale_by, cn_preprocess, control_net_set_create, control_net_set_apply_hint, clip_set_last_layer, image_scale\n",
    "from comfywr.my_lib import animate_images, images_to_video, read_video, make_unrolled_video, revert_unrolled_video\n",
    "from comfywr.my_test import interpolate_prompts_adaptive, postprocess_interpolated, interpolate_img2img_adaptive, hq_infer_txt, video_transform\n",
    "from comfywr.my_lib import iter_subplots_axes"
   ]
  },
  {
   "cell_type": "code",
   "execution_count": null,
   "id": "0be8e2ec-21ce-42ff-b706-d9818453fc80",
   "metadata": {
    "scrolled": true
   },
   "outputs": [],
   "source": [
    "!ls ./models/checkpoints/"
   ]
  },
  {
   "cell_type": "code",
   "execution_count": null,
   "id": "d9aa8a34-f82e-4b28-bc35-ea0b15141cad",
   "metadata": {
    "scrolled": true
   },
   "outputs": [],
   "source": [
    "!ls ./models/upscale_models/"
   ]
  },
  {
   "cell_type": "code",
   "execution_count": null,
   "id": "140f4f01-566c-46ee-aed9-daece9789d9b",
   "metadata": {
    "scrolled": true
   },
   "outputs": [],
   "source": [
    "checkpoints_names = dict(\n",
    "    sd='dreamshaper_8.safetensors',\n",
    "    upscale_model='RealESRGAN_x4plus_anime_6B.pth',\n",
    "    # cn_depth='control_v11f1p_sd15_depth.pth',\n",
    "    # cn_openpose='control_v11p_sd15_openpose.pth',\n",
    "    # cn_lineart='control_v11p_sd15_lineart.pth',\n",
    "    # cn_normal='control_v11p_sd15_normalbae.pth',\n",
    "    # cn_canny='control_v11p_sd15_canny.pth',\n",
    "    # cn_scribble='control_v11p_sd15_scribble.pth',\n",
    "    # cn_mediapipe_face='control_v2p_sd15_mediapipe_face.safetensors',\n",
    "    # cn_qr='controlnetQRPatternQR_v2Sd15.safetensorsx',\n",
    ")\n",
    "checkpoints = load_checkpoints({k:v for k,v in checkpoints_names.items()})"
   ]
  },
  {
   "cell_type": "code",
   "execution_count": null,
   "id": "2f4d2753-cca4-49f9-ba75-f70b510ee72e",
   "metadata": {},
   "outputs": [],
   "source": [
    "# check if you have EasyNegative.safetensors used in example below\n",
    "!ls ./models/embeddings/"
   ]
  },
  {
   "cell_type": "code",
   "execution_count": null,
   "id": "d630437c-a560-472d-8eb6-32d886507c9f",
   "metadata": {},
   "outputs": [],
   "source": [
    "n_images = 2\n",
    "sampler_settings = dict(sampler_name='dpmpp_2m_sde_gpu', scheduler='karras', seed=0,\n",
    "                        cfg=8.0, steps=26, batch_index=np.arange(n_images))\n",
    "\n",
    "pos = [\n",
    "    'best quality',\n",
    "    'masterpiece concept art',\n",
    "    'a fantasy medieval marketplace',\n",
    "    'complex details',\n",
    "]\n",
    "neg = 'embedding:EasyNegative.safetensors'\n",
    "pos = '(' + ') ('.join(pos) + ')'\n",
    "\n",
    "dim = (1024, 576)\n",
    "img = hq_infer_txt(checkpoints, *dim, n_images, pos, neg,\n",
    "                   sampler_settings=sampler_settings,\n",
    "                   upscale_by=1.6,\n",
    "                   use_upscaler=True,\n",
    "                   clip_skip=2)\n",
    "\n",
    "animate_images(postprocess_interpolated(img))"
   ]
  },
  {
   "cell_type": "code",
   "execution_count": null,
   "id": "3225b82d-9c39-47e3-921d-12c60ac45f9f",
   "metadata": {},
   "outputs": [],
   "source": []
  },
  {
   "cell_type": "code",
   "execution_count": null,
   "id": "88803098-b528-447a-a5b8-429bcbd0ff25",
   "metadata": {},
   "outputs": [],
   "source": []
  }
 ],
 "metadata": {
  "kernelspec": {
   "display_name": "Python 3 (ipykernel)",
   "language": "python",
   "name": "python3"
  },
  "language_info": {
   "codemirror_mode": {
    "name": "ipython",
    "version": 3
   },
   "file_extension": ".py",
   "mimetype": "text/x-python",
   "name": "python",
   "nbconvert_exporter": "python",
   "pygments_lexer": "ipython3",
   "version": "3.10.9"
  }
 },
 "nbformat": 4,
 "nbformat_minor": 5
}
