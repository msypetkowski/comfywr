{
 "cells": [
  {
   "cell_type": "code",
   "execution_count": null,
   "id": "19b61d79-e5f9-47e8-948f-326cb78e692e",
   "metadata": {
    "scrolled": true
   },
   "outputs": [],
   "source": [
    "%load_ext autoreload\n",
    "%cd /workdir/ComfyUI/\n",
    "%autoreload 2\n",
    "    \n",
    "from comfywr.csd_lib import load_image, cn_preprocess, control_net_set_create, \\\n",
    "    control_net_set_apply_hint, init_extra_nodes, load_sd_checkpoint, load_cn, load_upscale_model, load_lora, \\\n",
    "    load_clip_vision, load_ipadapter, run_marigold_depth_estimation, image_scale, ultimate_sd_upscale, clip_encode, \\\n",
    "    ip_adapter_apply, load_depth_anything_v2, run_depth_anything_v2, image_scale_by"
   ]
  },
  {
   "cell_type": "code",
   "execution_count": null,
   "id": "bdcaf1c0-acc0-4259-86fd-52a4c9d58462",
   "metadata": {},
   "outputs": [],
   "source": [
    "import importlib\n",
    "# Mesh = importlib.import_module('custom_nodes.ComfyUI-3D-Pack.mesh_processer.mesh').Mesh"
   ]
  },
  {
   "cell_type": "code",
   "execution_count": null,
   "id": "6109dad6-09ce-4ac0-b02f-c4859b177da5",
   "metadata": {},
   "outputs": [],
   "source": [
    "mesh_path = '/workdir/ComfyUI/output/Unique3d_atlas/initial.obj'\n",
    "# mesh = Mesh.load(mesh_path)"
   ]
  },
  {
   "cell_type": "code",
   "execution_count": null,
   "id": "45170988-d5d2-4481-8e85-69d97347ac60",
   "metadata": {},
   "outputs": [],
   "source": [
    "# import torch\n",
    "# import numpy as np\n",
    "import matplotlib.pyplot as plt \n",
    "# pt = mesh.convert_to_pointcloud()\n",
    "# IMG_RES = 1024\n",
    "# img = np.zeros((1024, 1024), dtype=np.float32)\n",
    "# points = ((pt.points + 0.5) * (IMG_RES - 1)).astype(int)\n",
    "# points.shape\n",
    "# # points = points[:1000]\n",
    "# views = []\n",
    "# \n",
    "# xs, ys = points[:, [0, 1]].T\n",
    "# v = img.copy()\n",
    "# v[IMG_RES - 1 - ys, xs] = 1\n",
    "# views.append(v)\n",
    "# \n",
    "# zs, ys = points[:, [2, 1]].T\n",
    "# v = img.copy()\n",
    "# v[IMG_RES - 1 - ys, zs] = 1\n",
    "# views.append(v)\n",
    "# \n",
    "# plt.figure(figsize=(20,20))\n",
    "# plt.imshow(np.concatenate(views, axis=1) * 255)\n",
    "# plt.show()"
   ]
  },
  {
   "cell_type": "code",
   "execution_count": null,
   "id": "5d486516-ae0e-48e4-80a0-77a42bddda6d",
   "metadata": {},
   "outputs": [],
   "source": [
    "!pip install \"pyglet<2\""
   ]
  },
  {
   "cell_type": "code",
   "execution_count": null,
   "id": "a58a6ea2-a0af-4294-b6f4-431eb7b53a4d",
   "metadata": {},
   "outputs": [],
   "source": [
    "import numpy as np\n",
    "from pathlib import Path\n",
    "import trimesh\n",
    "from PIL import Image, ImageDraw\n",
    "\n",
    "from custom_nodes.comfywr_nodes.nodes import mesh_silhouette_images\n",
    "\n",
    "vanilla_mesh = trimesh.load(Path(mesh_path).parent / 'initial_vanilla.obj')\n",
    "vanilla_mesh_silh = mesh_silhouette_images(vanilla_mesh)\n",
    "plt.figure(figsize=(3,3))\n",
    "plt.imshow(np.concatenate(vanilla_mesh_silh, 1))\n",
    "plt.show()"
   ]
  },
  {
   "cell_type": "code",
   "execution_count": null,
   "id": "034c34fe-2a51-49fb-90a7-838591d95145",
   "metadata": {},
   "outputs": [],
   "source": [
    "mesh = trimesh.load(mesh_path)\n",
    "original_mesh_silh = mesh_silhouette_images(mesh)\n",
    "plt.figure(figsize=(3,3))\n",
    "plt.imshow(np.concatenate(original_mesh_silh, 1))\n",
    "plt.show()"
   ]
  },
  {
   "cell_type": "code",
   "execution_count": null,
   "id": "ea92e81f-fa6a-4be2-be8a-c481fefdfc0a",
   "metadata": {},
   "outputs": [],
   "source": [
    "import cv2\n",
    "target_silh = [\n",
    "    cv2.imread('/workdir/ComfyUI/output/Unique3d_atlas/silhouette_00057_.png')[:, :, 0],\n",
    "    cv2.imread('/workdir/ComfyUI/output/Unique3d_atlas/silhouette_00058_.png')[:, :, 0],\n",
    "]\n",
    "for i in range(2):\n",
    "    target_silh[i] = cv2.resize(target_silh[i], (1024, 1024)) > 0\n",
    "    \n",
    "print(target_silh[0].shape)\n",
    "plt.figure(figsize=(3,3))\n",
    "plt.imshow(np.concatenate(target_silh, 1))\n",
    "plt.show()"
   ]
  },
  {
   "cell_type": "code",
   "execution_count": null,
   "id": "3011ed0b-04d2-4ef7-8d0e-2a56a5837b07",
   "metadata": {},
   "outputs": [],
   "source": [
    "from custom_nodes.comfywr_nodes.nodes import align_images\n",
    "aligned1, params1 = align_images(original_mesh_silh[0].astype(np.uint8) * 255,\n",
    "                                target_silh[0].astype(np.uint8) * 255, [1, 0, 0])\n",
    "aligned2, params2 = align_images(original_mesh_silh[1].astype(np.uint8) * 255,\n",
    "                                target_silh[1].astype(np.uint8) * 255, [1, 0, 0])\n",
    "print(params1.x, params2.x)\n",
    "plt.figure(figsize=(3,3))\n",
    "aligned_silh = [aligned1 > 0, aligned2 > 0]\n",
    "plt.imshow(np.concatenate(aligned_silh, 1))\n",
    "plt.show()"
   ]
  },
  {
   "cell_type": "code",
   "execution_count": null,
   "id": "4a4bd9ac-1e21-4542-9886-b0bc57bb8ec1",
   "metadata": {},
   "outputs": [],
   "source": [
    "# scale = (params1.x[0] + params2.x[0]) / 2\n",
    "scale = params1.x[0]\n",
    "offset_x = params1.x[1] * 2\n",
    "# offset_y = (params1.x[2] + params2.x[2]) / 2\n",
    "offset_y = -params1.x[2] * 2\n",
    "offset_z = -params2.x[1] * 2"
   ]
  },
  {
   "cell_type": "code",
   "execution_count": null,
   "id": "5bf46fa5-7bcf-458b-8fbc-3fec02e8f897",
   "metadata": {},
   "outputs": [],
   "source": [
    "from custom_nodes.comfywr_nodes.nodes import transform_mesh\n",
    "import trimesh\n",
    "aligned_mesh = trimesh.load(mesh_path)\n",
    "# aligned_mesh = transform_mesh(aligned_mesh.copy(), offset_x, offset_y, offset_z, *[scale] * 3)\n",
    "# aligned_mesh = transform_mesh(aligned_mesh.copy(), offset_x * coef, -offset_y * coef, 0, *[scale] * 3)\n",
    "# aligned_mesh = transform_mesh(aligned_mesh.copy(), offset_x, -offset_y * 0, 0, *[scale] * 3)\n",
    "aligned_mesh = transform_mesh(aligned_mesh.copy(), offset_x, offset_y, offset_z, *[scale] * 3)\n",
    "# aligned_mesh = transform_mesh(aligned_mesh, 0, 0, 0, *[scale] * 3)\n",
    "# aligned_mesh = transform_mesh(aligned_mesh, 0, 0, 0, *[1] * 3)\n",
    "aligned_mesh_slih = mesh_silhouette_images(aligned_mesh)\n",
    "\n",
    "from custom_nodes.comfywr_nodes.nodes import visualize_silhouettes\n",
    "vis = visualize_silhouettes([target_silh, original_mesh_silh, aligned_silh, aligned_mesh_slih, vanilla_mesh_silh])\n",
    "plt.figure(figsize=(20,20))\n",
    "plt.imshow(vis)\n",
    "plt.show()"
   ]
  },
  {
   "cell_type": "code",
   "execution_count": null,
   "id": "ce24f9ad-bc13-4cf5-b347-b9c3c9b72759",
   "metadata": {},
   "outputs": [],
   "source": []
  },
  {
   "cell_type": "code",
   "execution_count": null,
   "id": "c1ed7692-8ea4-49d7-90d0-348028dec974",
   "metadata": {},
   "outputs": [],
   "source": []
  },
  {
   "cell_type": "code",
   "execution_count": null,
   "id": "495647c1-bd81-46aa-8285-04a19b11ce4e",
   "metadata": {},
   "outputs": [],
   "source": []
  },
  {
   "cell_type": "code",
   "execution_count": null,
   "id": "fc4afc17-c86d-47f3-9e81-6f3b5b7cdcfd",
   "metadata": {},
   "outputs": [],
   "source": []
  },
  {
   "cell_type": "code",
   "execution_count": null,
   "id": "fd3d40bd-5f34-409a-996b-7f9cdf604f55",
   "metadata": {},
   "outputs": [],
   "source": []
  },
  {
   "cell_type": "code",
   "execution_count": null,
   "id": "e32890c8-d448-4c95-bd94-54a59e05bd2a",
   "metadata": {},
   "outputs": [],
   "source": []
  }
 ],
 "metadata": {
  "kernelspec": {
   "display_name": "Python 3 (ipykernel)",
   "language": "python",
   "name": "python3"
  },
  "language_info": {
   "codemirror_mode": {
    "name": "ipython",
    "version": 3
   },
   "file_extension": ".py",
   "mimetype": "text/x-python",
   "name": "python",
   "nbconvert_exporter": "python",
   "pygments_lexer": "ipython3",
   "version": "3.11.0rc1"
  }
 },
 "nbformat": 4,
 "nbformat_minor": 5
}
